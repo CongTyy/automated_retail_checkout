{
 "cells": [
  {
   "cell_type": "code",
   "execution_count": 1,
   "metadata": {},
   "outputs": [
    {
     "name": "stderr",
     "output_type": "stream",
     "text": [
      "/home/hoangtv/anaconda3/envs/aic/lib/python3.7/site-packages/tqdm/auto.py:22: TqdmWarning: IProgress not found. Please update jupyter and ipywidgets. See https://ipywidgets.readthedocs.io/en/stable/user_install.html\n",
      "  from .autonotebook import tqdm as notebook_tqdm\n"
     ]
    }
   ],
   "source": [
    "import torch"
   ]
  },
  {
   "cell_type": "code",
   "execution_count": 6,
   "metadata": {},
   "outputs": [
    {
     "data": {
      "text/plain": [
       "torch.Size([4, 4])"
      ]
     },
     "execution_count": 6,
     "metadata": {},
     "output_type": "execute_result"
    }
   ],
   "source": [
    "a = torch.tensor([  [1, 2, 3, 4],\n",
    "                    [1, 3, 4, 5],\n",
    "                    [3, 4, 5, 6],\n",
    "                    [4, 5, 6, 7]])\n",
    "\n",
    "a.size()\n",
    "\n"
   ]
  },
  {
   "cell_type": "code",
   "execution_count": 11,
   "metadata": {},
   "outputs": [
    {
     "name": "stdout",
     "output_type": "stream",
     "text": [
      "tensor([[[1, 2],\n",
      "         [3, 4]],\n",
      "\n",
      "        [[1, 3],\n",
      "         [4, 5]],\n",
      "\n",
      "        [[3, 4],\n",
      "         [5, 6]],\n",
      "\n",
      "        [[4, 5],\n",
      "         [6, 7]]])\n"
     ]
    }
   ],
   "source": [
    "b = a.view(-1, 2, 2)\n",
    "print(b)"
   ]
  }
 ],
 "metadata": {
  "kernelspec": {
   "display_name": "aic",
   "language": "python",
   "name": "python3"
  },
  "language_info": {
   "codemirror_mode": {
    "name": "ipython",
    "version": 3
   },
   "file_extension": ".py",
   "mimetype": "text/x-python",
   "name": "python",
   "nbconvert_exporter": "python",
   "pygments_lexer": "ipython3",
   "version": "3.7.16"
  },
  "orig_nbformat": 4,
  "vscode": {
   "interpreter": {
    "hash": "07c9f999cdc26795f62eacae46798bfb5be5ac8e79ca4a6f285e12bb8cac554e"
   }
  }
 },
 "nbformat": 4,
 "nbformat_minor": 2
}
